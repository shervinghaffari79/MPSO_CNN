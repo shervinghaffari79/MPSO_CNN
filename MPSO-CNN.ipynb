{
  "nbformat": 4,
  "nbformat_minor": 0,
  "metadata": {
    "colab": {
      "provenance": []
    },
    "kernelspec": {
      "name": "python3",
      "display_name": "Python 3"
    },
    "language_info": {
      "name": "python"
    }
  },
  "cells": [
    {
      "cell_type": "markdown",
      "source": [
        "## Importing Libraries"
      ],
      "metadata": {
        "id": "csn96xhudyE4"
      }
    },
    {
      "cell_type": "code",
      "source": [
        "import numpy as np\n",
        "from keras.datasets import mnist\n",
        "from keras.models import Sequential\n",
        "from keras.layers import Conv2D, MaxPooling2D, Flatten, Dense\n",
        "from keras.optimizers import Adam\n",
        "from keras.utils import to_categorical\n",
        "import random"
      ],
      "metadata": {
        "id": "ibdutAhWT_A4"
      },
      "execution_count": null,
      "outputs": []
    },
    {
      "cell_type": "markdown",
      "source": [
        "## Define Cnn architecture parameters ranges"
      ],
      "metadata": {
        "id": "sc4Y8ZTVeYJ4"
      }
    },
    {
      "cell_type": "code",
      "source": [
        "num_conv_layers_range = [1, 5]\n",
        "num_pool_layers_range = [1, 5]\n",
        "num_fc_layers_range = [1, 5]"
      ],
      "metadata": {
        "id": "itnqV4bPexRu"
      },
      "execution_count": null,
      "outputs": []
    },
    {
      "cell_type": "markdown",
      "source": [
        "## Particle parameters"
      ],
      "metadata": {
        "id": "bKpCXQqVOdNn"
      }
    },
    {
      "cell_type": "code",
      "source": [
        "population_size = 50\n",
        "max_generations = 50\n",
        "c1 = 2.0  # cognitive parameter\n",
        "c2 = 2.0  # social parameter\n",
        "w = 0.7   # inertia weight"
      ],
      "metadata": {
        "id": "Q_QcR1eaOg85"
      },
      "execution_count": null,
      "outputs": []
    },
    {
      "cell_type": "markdown",
      "source": [
        "## Define Cnn architecture hyperparameters ranges"
      ],
      "metadata": {
        "id": "vQvu2Oiai9Oh"
      }
    },
    {
      "cell_type": "code",
      "source": [
        "num_filters_range = [1, 64]\n",
        "padding_range = [0, 1]\n",
        "stride_range = [1, 5]\n",
        "filter_size_range = [1, 13]"
      ],
      "metadata": {
        "id": "NIlbeedvjGZX"
      },
      "execution_count": null,
      "outputs": []
    },
    {
      "cell_type": "markdown",
      "source": [
        "## Load and Preprocess of MNIST dataset"
      ],
      "metadata": {
        "id": "g5zrzTd1ga32"
      }
    },
    {
      "cell_type": "code",
      "source": [
        "    (x_train, y_train), (x_test, y_test) = mnist.load_data()\n",
        "    input_shape = (28,28,1)\n",
        "    num_classes = len(np.unique(y_train))\n",
        "    x_train = x_train.astype('float32') / 255.\n",
        "    x_test = x_test.astype('float32') / 255.\n",
        "    y_train = to_categorical(y_train, num_classes)\n",
        "    y_test = to_categorical(y_test, num_classes)"
      ],
      "metadata": {
        "id": "G142W0cGgqCv"
      },
      "execution_count": null,
      "outputs": []
    },
    {
      "cell_type": "markdown",
      "source": [
        "## Evaluate fitness for cnn_architecture"
      ],
      "metadata": {
        "id": "j_fjZG8hkKD5"
      }
    },
    {
      "cell_type": "code",
      "source": [
        "\n",
        "def evaluate_fitness(cnn_architecture):\n",
        "\n",
        "    num_conv_layers = int(cnn_architecture[0] * (num_conv_layers_range[1] - num_conv_layers_range[0]) + num_conv_layers_range[0])\n",
        "    num_pool_layers = int(cnn_architecture[1] * (num_pool_layers_range[1] - num_pool_layers_range[0]) + num_pool_layers_range[0])\n",
        "    num_fc_layers = int(cnn_architecture[2] * (num_fc_layers_range[1] - num_fc_layers_range[0]) + num_fc_layers_range[0])\n",
        "\n",
        "    # Generate random hyperparameters for each layer\n",
        "    filters = [random.randint(num_filters_range[0], num_filters_range[1]) for _ in range(num_conv_layers)]\n",
        "    paddings = [random.randint(padding_range[0], padding_range[1]) for _ in range(num_conv_layers)]\n",
        "    strides = [random.randint(stride_range[0], stride_range[1]) for _ in range(num_conv_layers)]\n",
        "    filter_sizes = [random.randint(filter_size_range[0], filter_size_range[1]) for _ in range(num_conv_layers)]\n",
        "\n",
        "    # Build CNN model\n",
        "    model = Sequential()\n",
        "    for i in range(num_conv_layers):\n",
        "        model.add(Conv2D(32, (3,3), padding='same', activation='relu', input_shape=(28,28,1)))\n",
        "        if paddings[i] > 0:\n",
        "            model.add(Conv2D(filters[i], filter_sizes[i], padding='same', activation='relu'))\n",
        "        if strides[i] > 1:\n",
        "            model.add(MaxPooling2D(pool_size=(2, 2)))\n",
        "    model.add(Flatten())\n",
        "    for _ in range(num_fc_layers):\n",
        "        model.add(Dense(128, activation='relu'))\n",
        "    model.add(Dense(num_classes, activation='softmax'))\n",
        "    model.compile(loss='categorical_crossentropy', optimizer=Adam(), metrics=['accuracy'])\n",
        "    model.fit(x_train, y_train, batch_size=64, epochs=1, validation_data=(x_test, y_test))\n",
        "\n",
        "    # Evaluate the model\n",
        "    _, accuracy = model.evaluate(x_test, y_test, verbose=0)\n",
        "\n",
        "    complexity = model.count_params()  # Total number of parameters in the model\n",
        "\n",
        "    fitness = [accuracy, complexity]\n",
        "    return fitness\n"
      ],
      "metadata": {
        "id": "SdJA23FlkPIk"
      },
      "execution_count": null,
      "outputs": []
    },
    {
      "cell_type": "markdown",
      "source": [
        "## Create particle"
      ],
      "metadata": {
        "id": "6rlEW0S2O-pQ"
      }
    },
    {
      "cell_type": "code",
      "source": [
        "class Particle:\n",
        "    def __init__(self, position):\n",
        "        self.position = position\n",
        "        self.velocity = np.zeros_like(position)\n",
        "        self.best_position = np.copy(position)\n",
        "        self.best_fitness = None"
      ],
      "metadata": {
        "id": "9IkIF77JzGBG"
      },
      "execution_count": null,
      "outputs": []
    },
    {
      "cell_type": "markdown",
      "source": [
        "## MPSO algorithm"
      ],
      "metadata": {
        "id": "n-rjTWYcO7OD"
      }
    },
    {
      "cell_type": "code",
      "source": [
        "population = []\n",
        "for _ in range(population_size):\n",
        "    cnn_architecture = [\n",
        "        random.random(),  # Number of convolutional layers\n",
        "        random.random(),  # Number of pooling layers\n",
        "        random.random()   # Number of fully connected layers\n",
        "    ]\n",
        "    population.append(Particle(cnn_architecture))\n",
        "\n",
        "# Run the MPSO algorithm\n",
        "for generation in range(1):\n",
        "    for particle in population:\n",
        "        # Evaluate fitness of the particle\n",
        "        fitness = evaluate_fitness(particle.position)\n",
        "\n",
        "        # Update personal best\n",
        "        if particle.best_fitness is None or fitness[0] > particle.best_fitness[0]:\n",
        "            particle.best_position = particle.position\n",
        "            particle.best_fitness = fitness\n",
        "\n",
        "    # Update global best\n",
        "    population.sort(key=lambda p: p.best_fitness[0], reverse=True)\n",
        "    global_best_fitness = population[0].best_fitness\n",
        "\n",
        "    # Update velocity and position of each particle\n",
        "    for particle in population:\n",
        "        r1 = np.random.rand()\n",
        "        r2 = np.random.rand()\n",
        "\n",
        "        velocity = (\n",
        "            w * particle.velocity +\n",
        "            c1 * r1 * (particle.best_position - particle.position) +\n",
        "            c2 * r2 * (population[0].best_position - particle.position)\n",
        "        )\n",
        "        particle.position += velocity\n"
      ],
      "metadata": {
        "id": "zEF9j7x9zMU_"
      },
      "execution_count": 1,
      "outputs": []
    }
  ]
}